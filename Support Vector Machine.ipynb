{
 "cells": [
  {
   "cell_type": "code",
   "execution_count": null,
   "metadata": {},
   "outputs": [],
   "source": [
    "import codecademylib3_seaborn\n",
    "import matplotlib.pyplot as plt\n",
    "from sklearn.svm import SVC\n",
    "from sklearn.model_selection import train_test_split\n",
    "from svm_visualization import draw_boundary\n",
    "from players import aaron_judge, jose_altuve, david_ortiz\n",
    "\n",
    "fig, ax = plt.subplots()\n",
    "\n",
    "# print(aaron_judge.columns)\n",
    "# print(aaron_judge.description.unique())\n",
    "\n",
    "# print(aaron_judge.type.unique())\n",
    "def find_strike_zone(dataset):\n",
    "  dataset.type=dataset.type.map({'S':1,'B':0})\n",
    "\n",
    "  dataset = dataset.dropna(subset = ['type', 'plate_x', 'plate_z'])\n",
    "\n",
    "  # print(aaron_judge.type)\n",
    "\n",
    "  # print(aaron_judge.plate_z)\n",
    "  plt.scatter(x=dataset.plate_x, y=dataset.plate_z, c=dataset.type,cmap=plt.cm.coolwarm,alpha=0.25)\n",
    "\n",
    "  training_set, validation_set=train_test_split(dataset,random_state=1)\n",
    "\n",
    "  largest ={'value': 0, 'gamma':1, 'c':1}\n",
    "  for gamma in range(1,5):\n",
    "    for C in range(1, 5):\n",
    "      classifier = SVC(kernel='rbf', gamma=gamma, C=C)\n",
    "      classifier.fit(training_set[['plate_x','plate_z']],training_set.type)\n",
    "      score=classifier.score(training_set[['plate_x','plate_z']], training_set.type )\n",
    "      if(score> largest['value']):\n",
    "        largest['value']= score\n",
    "        largest['gamma']= gamma\n",
    "        largest['C']= C    \n",
    "  print(largest)  \n",
    "      \n",
    "  draw_boundary(ax, classifier)\n",
    "  plt.show()\n",
    "\n",
    "\n",
    "find_strike_zone(aaron_judge)"
   ]
  }
 ],
 "metadata": {
  "kernelspec": {
   "display_name": "Python 3",
   "language": "python",
   "name": "python3"
  },
  "language_info": {
   "codemirror_mode": {
    "name": "ipython",
    "version": 3
   },
   "file_extension": ".py",
   "mimetype": "text/x-python",
   "name": "python",
   "nbconvert_exporter": "python",
   "pygments_lexer": "ipython3",
   "version": "3.7.6"
  }
 },
 "nbformat": 4,
 "nbformat_minor": 4
}
